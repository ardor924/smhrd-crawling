{
 "cells": [
  {
   "cell_type": "code",
   "execution_count": 16,
   "id": "1700bf96",
   "metadata": {},
   "outputs": [],
   "source": [
    "#================================================================#\n",
    "# ▶ 모듈 불러오기\n",
    "#================================================================#\n",
    "# 브라우저 선택자\n",
    "import requests  as req\n",
    "\n",
    "# 크롤링 변환용 파싱모듈\n",
    "from bs4 import BeautifulSoup as bs\n",
    "\n",
    "\n",
    "\n"
   ]
  },
  {
   "cell_type": "code",
   "execution_count": 17,
   "id": "0702f526",
   "metadata": {},
   "outputs": [],
   "source": [
    "################################\n",
    "# 스도코딩\n",
    "################################\n",
    "# 1. 브라우저를 키고, 네이버 주소를 받아온다.\n",
    "# 2. 응답 속에서 필요한 html만 꺼내본다.\n",
    "# 3. 리퀘스트로 받아온 string 데이터를 컴퓨터가 이해할수 있도록 html로 확장자(타입) 변환(파싱작업)\n",
    "# 4. HTML속에서 a 태그 중에 클래스가 news_tit인 요소들을 선택한다\n",
    "# 5. 비어있는 리스트제작 -> 요소에서 컨텐츠만 꺼내서 저장"
   ]
  },
  {
   "cell_type": "code",
   "execution_count": 18,
   "id": "c3d44594-a562-409a-bb87-5858583da220",
   "metadata": {},
   "outputs": [],
   "source": [
    "# 1. 브라우저를 키고, 네이버 주소를 받아온다.\n",
    "url = 'https://search.naver.com/search.naver?where=nexearch&sm=top_hty&fbm=0&ie=utf8&query=%EC%82%B0%EB%B6%88'\n",
    "res = req.get(url)"
   ]
  },
  {
   "cell_type": "code",
   "execution_count": 19,
   "id": "f8e09931-5d5d-412a-b270-7e9f51c7115f",
   "metadata": {},
   "outputs": [],
   "source": [
    "# 2. 응답 속에서 필요한 html만 꺼내본다.\n",
    "res_text = res.text"
   ]
  },
  {
   "cell_type": "code",
   "execution_count": 20,
   "id": "0aec89d0",
   "metadata": {},
   "outputs": [],
   "source": [
    "# 3. 리퀘스트로 받아온 string 데이터를 컴퓨터가 이해할수 있도록 html로 확장자(타입) 변환(파싱작업)\n",
    "soup = bs(res_text,\"lxml\")"
   ]
  },
  {
   "cell_type": "code",
   "execution_count": 45,
   "id": "3d79af26",
   "metadata": {},
   "outputs": [],
   "source": [
    "# 4. HTML속에서 a 태그 중에 클래스가 news_tit인 요소들을 선택한다\n",
    "news = soup.select('a.news_tit')"
   ]
  },
  {
   "cell_type": "code",
   "execution_count": 43,
   "id": "43aa8255",
   "metadata": {},
   "outputs": [
    {
     "data": {
      "text/plain": [
       "[\"경북산불 산림피해 조사 시작…'산사태 우려' 진단 병행\",\n",
       " \"정부, '산불피해' 경북·경남에 재난특교세 226억 추가 지원\",\n",
       " '기보, 산불 피해 중기에 금융지원…\"피해복구 자금 마련\"',\n",
       " '[단독] 신상 도용해 \"산불 지르겠다\"...경찰,작성자 추적 중']"
      ]
     },
     "execution_count": 43,
     "metadata": {},
     "output_type": "execute_result"
    }
   ],
   "source": [
    "# 5. 비어있는 리스트제작 -> 요소에서 컨텐츠만 꺼내서 저장\n",
    "news_list = []\n",
    "for i in news:\n",
    "    news_list.append(i.text)\n",
    "news_list    "
   ]
  },
  {
   "cell_type": "code",
   "execution_count": null,
   "id": "78a01274",
   "metadata": {},
   "outputs": [],
   "source": []
  }
 ],
 "metadata": {
  "kernelspec": {
   "display_name": "Crawling",
   "language": "python",
   "name": "python3"
  },
  "language_info": {
   "codemirror_mode": {
    "name": "ipython",
    "version": 3
   },
   "file_extension": ".py",
   "mimetype": "text/x-python",
   "name": "python",
   "nbconvert_exporter": "python",
   "pygments_lexer": "ipython3",
   "version": "3.9.21"
  }
 },
 "nbformat": 4,
 "nbformat_minor": 5
}
